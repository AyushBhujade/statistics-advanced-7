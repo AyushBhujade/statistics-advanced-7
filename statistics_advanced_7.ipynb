{
 "cells": [
  {
   "cell_type": "markdown",
   "id": "1bda12dc-6206-476f-98a7-dbd3dc9de0ee",
   "metadata": {},
   "source": [
    "# Quation 1"
   ]
  },
  {
   "cell_type": "code",
   "execution_count": 1,
   "id": "6f2d2622-d47b-462f-87a7-088c7b8ed0e8",
   "metadata": {},
   "outputs": [],
   "source": [
    "import numpy as np\n",
    "from scipy.stats import f"
   ]
  },
  {
   "cell_type": "code",
   "execution_count": 2,
   "id": "6c60d0d4-1a08-47d5-89d5-715b4cc6a151",
   "metadata": {},
   "outputs": [
    {
     "name": "stdout",
     "output_type": "stream",
     "text": [
      "f-value is: 0.7131147540983607 p value is: 0.6540870513940047\n"
     ]
    }
   ],
   "source": [
    "def find_pvalue_using_fval(x,y,significance_val):\n",
    "    variance_x=np.var(x)\n",
    "    variance_y=np.var(y)\n",
    "    f_value=variance_x/variance_y\n",
    "    dof_x=len(x)-1\n",
    "    dof_y=len(y)-1\n",
    "    p_value=f.sf(f_value,dfn=dof_x,dfd=dof_y)\n",
    "    return f_value,p_value\n",
    "x1=[2,4,5,6,7,4,8]\n",
    "y1=[4,8,5,6,9,7,2]\n",
    "significance_val=0.05\n",
    "f_value,p_value=find_pvalue_using_fval(x1,y1,significance_val)\n",
    "print(f\"f-value is: {f_value} p value is: {p_value}\")"
   ]
  },
  {
   "cell_type": "markdown",
   "id": "bb2cd63b-bd0d-46a2-9e2e-b5483b7fc18f",
   "metadata": {},
   "source": [
    "# Quation 2"
   ]
  },
  {
   "cell_type": "code",
   "execution_count": 3,
   "id": "76ebe16c-3fb4-4481-beb8-e7588e841593",
   "metadata": {},
   "outputs": [
    {
     "name": "stdout",
     "output_type": "stream",
     "text": [
      "Critical value is: 4.651695537300463\n"
     ]
    }
   ],
   "source": [
    "def critical_val_for_2tail(dof_num,dof_denom,significance_val):\n",
    "    significance_value=significance_val/2\n",
    "    critical_value=f.ppf(1-significance_value,dof_num,dof_denom)\n",
    "    return critical_value\n",
    "significance_val=0.05\n",
    "dof_num=6\n",
    "dof_denom=8\n",
    "critical_val=critical_val_for_2tail(dof_num,dof_denom,significance_val)\n",
    "print(f\"Critical value is: {critical_val}\")"
   ]
  },
  {
   "cell_type": "markdown",
   "id": "348f30ea-4fed-4e6c-a055-776b07053123",
   "metadata": {},
   "source": [
    "# Quation 3"
   ]
  },
  {
   "cell_type": "code",
   "execution_count": 4,
   "id": "b95ff4cb-4243-4f3e-bf8b-49d6f48342ff",
   "metadata": {},
   "outputs": [
    {
     "name": "stdout",
     "output_type": "stream",
     "text": [
      "f_value is :0.9171754902569228,dof of num: 19,dof of denom:19,and p value is 0.5737529037072719\n"
     ]
    }
   ],
   "source": [
    "def perform_ftest(sample_1,sample_2,significance_val):\n",
    "    variance_sample1=np.var(sample_1)\n",
    "    variance_sample2=np.var(sample_2)\n",
    "    f_value=variance_sample1/variance_sample2\n",
    "    df_num=len(sample_1)-1\n",
    "    df_denom=len(sample_2)-1\n",
    "    p_value=f.sf(f_value,df_num,df_denom)\n",
    "    return f_value,df_num,df_denom,p_value\n",
    "np.random.seed(60)\n",
    "data1=np.random.normal(loc=0,scale=1,size=20)\n",
    "data2=np.random.normal(loc=5,scale=1,size=20)\n",
    "significance_val=0.05\n",
    "f_value,df_num,df_denom,p_value=perform_ftest(data1,data2,significance_val)\n",
    "print(f\"f_value is :{f_value},dof of num: {df_num},dof of denom:{df_denom},and p value is {p_value}\")"
   ]
  },
  {
   "cell_type": "markdown",
   "id": "ff6a3d41-99f2-4410-a395-b14af823bd2c",
   "metadata": {},
   "source": [
    "# Quation 4"
   ]
  },
  {
   "cell_type": "code",
   "execution_count": 5,
   "id": "732fb6bd-46be-4ec2-b6d7-bde7972e1ba3",
   "metadata": {},
   "outputs": [
    {
     "name": "stdout",
     "output_type": "stream",
     "text": [
      "we fail to reject null hypothessis,variance are not significantly differnt\n"
     ]
    }
   ],
   "source": [
    "# null hypothesis: variance is equal\n",
    "# alternate hypothesis: variance is not equal\n",
    "variance_1=10\n",
    "variance_2=15\n",
    "sample_size=12\n",
    "significance_value=0.05/2\n",
    "f_value=variance_1/variance_2\n",
    "dfnum=sample_size-1\n",
    "dfdenom=sample_size-1\n",
    "critical_value=f.ppf(q=1-significance_value,dfn=dfnum,dfd=dfdenom)\n",
    "if f_value>critical_value:\n",
    "    print(\"we reject the null hypothesis.variance are significantly differnt\")\n",
    "else:\n",
    "    print(\"we fail to reject null hypothessis,variance are not significantly differnt\")"
   ]
  },
  {
   "cell_type": "markdown",
   "id": "6743eb78-37e8-4418-99f2-827098bbadee",
   "metadata": {},
   "source": [
    "# Quation 5"
   ]
  },
  {
   "cell_type": "code",
   "execution_count": 15,
   "id": "b0e31fcf-c059-4729-9399-96b6e8ac6ea3",
   "metadata": {},
   "outputs": [
    {
     "name": "stdout",
     "output_type": "stream",
     "text": [
      "we fail to reject the null hypothesis,manufactureer clame is true\n"
     ]
    }
   ],
   "source": [
    "# null hypothesis: manufacturer clame is true\n",
    "# alternate hypothesis:manufacturer clame  is not true\n",
    "# its a two tail test\n",
    "variance1=0.006\n",
    "variance2=0.005\n",
    "sample_size=25\n",
    "f_value=variance1/variance2\n",
    "df_num=sample_size-1\n",
    "df_denom=sample_size-1\n",
    "significance_value=0.01/2 # becauce its a two tail test\n",
    "critical_val=f.ppf(q=1-significance_value,dfn=df_num,dfd=df_denom)\n",
    "if f_value>critical_val or f_value<1/critical_value:\n",
    "    print(\"we reject the null hypothesis,manufacturer clame is false\")\n",
    "else:\n",
    "    print(\"we fail to reject the null hypothesis,manufactureer clame is true\")"
   ]
  },
  {
   "cell_type": "markdown",
   "id": "f5538324-8c1f-4733-84d0-aa6cd85eae42",
   "metadata": {},
   "source": [
    "# Quation 6"
   ]
  },
  {
   "cell_type": "code",
   "execution_count": 16,
   "id": "a7ff9a50-e1aa-4dbd-8e69-61542499cc38",
   "metadata": {},
   "outputs": [
    {
     "name": "stdout",
     "output_type": "stream",
     "text": [
      "mean is :-1.0,variance is: 1.0416666666666667\n"
     ]
    }
   ],
   "source": [
    "def mean_variance(df_num,df_denom):\n",
    "    mean=df_denom/df_denom-2\n",
    "    \n",
    "    variance=2*(df_denom**2*(df_num+df_denom-2))/(df_num*(df_denom-2)**2*(df_denom-4))\n",
    "    return mean,variance\n",
    "df_num=8\n",
    "df_denom=10\n",
    "mean,variance=mean_variance(df_num,df_denom)\n",
    "print(f\"mean is :{mean},variance is: {variance}\")"
   ]
  },
  {
   "cell_type": "markdown",
   "id": "e2c7e22a-46f2-4d9a-a97a-b80967d7d122",
   "metadata": {},
   "source": [
    "# Quation 7"
   ]
  },
  {
   "cell_type": "code",
   "execution_count": 17,
   "id": "14e35632-809d-40a2-8454-432f4e0e3f90",
   "metadata": {},
   "outputs": [
    {
     "name": "stdout",
     "output_type": "stream",
     "text": [
      "we fail to reject null hypothesis,Variances are not significantly different\n"
     ]
    }
   ],
   "source": [
    "# null hypothesis: variance is equal\n",
    "#alternate hypothesis: variance is not equal\n",
    "variance1=25\n",
    "variance2=20\n",
    "size1=10\n",
    "size2=15\n",
    "f_value=variance1/variance2\n",
    "df_num=size1-1\n",
    "df_denom=size2-1\n",
    "significance_value=0.10/2 # two tail test\n",
    "critical_value=f.ppf(q=1-significance_value,dfn=df_num,dfd=df_denom)\n",
    "if f_value>critical_value or f_value<1/critical_value:\n",
    "    print(f\"we reject the null hypothesis,variance are significantly differnt\")\n",
    "else:\n",
    "    print(\"we fail to reject null hypothesis,Variances are not significantly different\")"
   ]
  },
  {
   "cell_type": "markdown",
   "id": "cdb30646-3278-42c3-98cc-b5f903c7a50e",
   "metadata": {},
   "source": [
    "# Quation 8"
   ]
  },
  {
   "cell_type": "code",
   "execution_count": 21,
   "id": "fc306007-69bf-4aad-90aa-cf26d6bdad2e",
   "metadata": {},
   "outputs": [
    {
     "name": "stdout",
     "output_type": "stream",
     "text": [
      "we fail to reject null hypothesis,variance are equal\n",
      "f value: 1.496767651159843\n",
      "critical value:6.977701858535566\n"
     ]
    }
   ],
   "source": [
    "# null hypothesis: variance are equale\n",
    "# alternate hypothesis: variance are not equale\n",
    "Ra=[24,25,28,23,22,20,27]\n",
    "Rb=[31,33,35,30,32,36]\n",
    "variance_ra=np.var(Ra)\n",
    "variance_rb=np.var(Rb)\n",
    "f_value=variance_ra/variance_rb\n",
    "df_num=len(Ra)-1\n",
    "df_denom=len(Rb)-1\n",
    "significance=0.05/2 #two tail test\n",
    "critical_value=f.ppf(q=1-significance,dfn=df_num,dfd=df_denom)\n",
    "if f_value> critical_value or f_value<1/critical_value:\n",
    "    print(\"we reject the null hypothesis,variance are not equal\")\n",
    "else:\n",
    "    print(\"we fail to reject null hypothesis,variance are equal\")\n",
    "print(f\"f value: {f_value}\")\n",
    "print(f\"critical value:{critical_value}\")"
   ]
  },
  {
   "cell_type": "markdown",
   "id": "617871a4-feaa-4161-8783-fb073b514898",
   "metadata": {},
   "source": [
    "# Quation 9"
   ]
  },
  {
   "cell_type": "code",
   "execution_count": 27,
   "id": "096517aa-166b-45c7-ad3c-b79b381ee99e",
   "metadata": {},
   "outputs": [
    {
     "name": "stdout",
     "output_type": "stream",
     "text": [
      "we fail to reject the null hypothesis,variance are equal\n",
      "f value: 1.9442622950819677, critical value: 14.939605459912224,lower fence0.066936171954696\n"
     ]
    }
   ],
   "source": [
    "class_a=[80,85,90,92,87,83]\n",
    "class_b=[75,78,82,79,81,84]\n",
    "variance_a=np.var(class_a)\n",
    "variance_b=np.var(class_b)\n",
    "f_value=variance_a/variance_b\n",
    "df_num=len(class_a)-1\n",
    "df_denom=len(class_b)-1\n",
    "significance_value=0.01/2\n",
    "critical_value=f.ppf(q=1-significance_value,dfn=df_num,dfd=df_denom)\n",
    "\n",
    "if f_value>critical_value or f_value< 1/critical_value:\n",
    "    print(\"we reject the null hypothesis,variance is not equal\")\n",
    "else:\n",
    "    print(\"we fail to reject the null hypothesis,variance are equal\")\n",
    "print(f\"f value: {f_value}, critical value: {critical_value},lower fence{1/critical_value}\")"
   ]
  },
  {
   "cell_type": "code",
   "execution_count": 25,
   "id": "eec51ab3-e264-4312-ae13-3a064810088f",
   "metadata": {},
   "outputs": [
    {
     "data": {
      "text/plain": [
       "False"
      ]
     },
     "execution_count": 25,
     "metadata": {},
     "output_type": "execute_result"
    }
   ],
   "source": [
    "f_value<1/critical_value"
   ]
  },
  {
   "cell_type": "code",
   "execution_count": 26,
   "id": "8372091e-abc1-4691-b424-264f504075b5",
   "metadata": {},
   "outputs": [
    {
     "name": "stdout",
     "output_type": "stream",
     "text": [
      "Fail to reject the null hypothesis. Variances are not significantly different.\n",
      "Observed F-value: 1.9442622950819677\n",
      "Critical F-values: 0.066936171954696, 14.939605459912224\n",
      "P-value: 0.4831043549070688\n"
     ]
    }
   ],
   "source": [
    "import numpy as np\n",
    "from scipy.stats import f\n",
    "\n",
    "# Given data\n",
    "group_a_scores = np.array([80, 85, 90, 92, 87, 83])\n",
    "group_b_scores = np.array([75, 78, 82, 79, 81, 84])\n",
    "\n",
    "# Degrees of freedom\n",
    "df_num = len(group_a_scores) - 1\n",
    "df_denom = len(group_b_scores) - 1\n",
    "\n",
    "# Sample variances\n",
    "variance_a = np.var(group_a_scores, ddof=1)\n",
    "variance_b = np.var(group_b_scores, ddof=1)\n",
    "\n",
    "# Observed F-value\n",
    "observed_f = variance_a / variance_b\n",
    "\n",
    "# Critical F-value for a two-tailed test at 1% significance level\n",
    "alpha = 0.01\n",
    "critical_f_low = f.ppf(alpha / 2, df_num, df_denom)\n",
    "critical_f_high = f.ppf(1 - alpha / 2, df_num, df_denom)\n",
    "\n",
    "# P-value for the F-test (two-tailed)\n",
    "p_value = 2 * min(f.cdf(observed_f, df_num, df_denom), 1 - f.cdf(observed_f, df_num, df_denom))\n",
    "\n",
    "# Conduct the F-test\n",
    "if observed_f < critical_f_low or observed_f > critical_f_high:\n",
    "    print(\"Reject the null hypothesis. Variances are significantly different.\")\n",
    "else:\n",
    "    print(\"Fail to reject the null hypothesis. Variances are not significantly different.\")\n",
    "\n",
    "# Output results\n",
    "print(f\"Observed F-value: {observed_f}\")\n",
    "print(f\"Critical F-values: {critical_f_low}, {critical_f_high}\")\n",
    "print(f\"P-value: {p_value}\")\n"
   ]
  },
  {
   "cell_type": "code",
   "execution_count": null,
   "id": "23553377-301b-493a-815d-71e8b6e1d552",
   "metadata": {},
   "outputs": [],
   "source": []
  }
 ],
 "metadata": {
  "kernelspec": {
   "display_name": "Python 3 (ipykernel)",
   "language": "python",
   "name": "python3"
  },
  "language_info": {
   "codemirror_mode": {
    "name": "ipython",
    "version": 3
   },
   "file_extension": ".py",
   "mimetype": "text/x-python",
   "name": "python",
   "nbconvert_exporter": "python",
   "pygments_lexer": "ipython3",
   "version": "3.10.8"
  }
 },
 "nbformat": 4,
 "nbformat_minor": 5
}
